{
 "cells": [
  {
   "cell_type": "code",
   "execution_count": 4,
   "id": "comparable-pendant",
   "metadata": {},
   "outputs": [
    {
     "data": {
      "text/plain": [
       "users.models.Customer"
      ]
     },
     "execution_count": 4,
     "metadata": {},
     "output_type": "execute_result"
    }
   ],
   "source": [
    "Customer"
   ]
  },
  {
   "cell_type": "code",
   "execution_count": 3,
   "id": "opposed-signature",
   "metadata": {},
   "outputs": [],
   "source": [
    "import os\n",
    "import django\n",
    "os.environ.setdefault('DJANGO_SETTINGS_MODULE', 'rest.settings')\n",
    "os.environ[\"DJANGO_ALLOW_ASYNC_UNSAFE\"] = \"true\"\n",
    "django.setup()"
   ]
  },
  {
   "cell_type": "code",
   "execution_count": 7,
   "id": "stock-canada",
   "metadata": {},
   "outputs": [
    {
     "data": {
      "text/plain": [
       "<QuerySet [{'first_name': '영환'}, {'first_name': '보람'}, {'first_name': '은영'}, {'first_name': '상현'}, {'first_name': '정훈'}, {'first_name': '서연'}, {'first_name': '정식'}, {'first_name': '영수'}, {'first_name': '예진'}, {'first_name': '은지'}, {'first_name': '준영'}, {'first_name': '숙자'}, {'first_name': '현주'}, {'first_name': '성수'}, {'first_name': '상훈'}, {'first_name': '민재'}, {'first_name': '지아'}, {'first_name': '정순'}, {'first_name': '지원'}, {'first_name': '하은'}, '...(remaining elements truncated)...']>"
      ]
     },
     "execution_count": 7,
     "metadata": {},
     "output_type": "execute_result"
    }
   ],
   "source": [
    "Customer.objects.filter(age=30).values('first_name')"
   ]
  },
  {
   "cell_type": "code",
   "execution_count": 6,
   "id": "funded-senate",
   "metadata": {
    "scrolled": true
   },
   "outputs": [
    {
     "name": "stdout",
     "output_type": "stream",
     "text": [
      "SELECT \"users_customer\".\"first_name\" FROM \"users_customer\" WHERE \"users_customer\".\"age\" = 30\n"
     ]
    }
   ],
   "source": [
    "Customer.objects.get(pk=1)\n",
    "print(Customer.objects.filter(age=30).values('first_name').query)"
   ]
  },
  {
   "cell_type": "code",
   "execution_count": 8,
   "id": "color-polymer",
   "metadata": {},
   "outputs": [
    {
     "data": {
      "text/plain": [
       "414"
      ]
     },
     "execution_count": 8,
     "metadata": {},
     "output_type": "execute_result"
    }
   ],
   "source": [
    "# __gte, __gt, __lte, __lt\n",
    "Customer.objects.filter(age__gte=30).count()"
   ]
  },
  {
   "cell_type": "code",
   "execution_count": 9,
   "id": "still-calibration",
   "metadata": {},
   "outputs": [
    {
     "data": {
      "text/plain": [
       "213"
      ]
     },
     "execution_count": 9,
     "metadata": {},
     "output_type": "execute_result"
    }
   ],
   "source": [
    "# 미성년자의 인원수\n",
    "Customer.objects.filter(age__lt=20).count()"
   ]
  },
  {
   "cell_type": "code",
   "execution_count": 12,
   "id": "painful-marine",
   "metadata": {},
   "outputs": [
    {
     "data": {
      "text/plain": [
       "6"
      ]
     },
     "execution_count": 12,
     "metadata": {},
     "output_type": "execute_result"
    }
   ],
   "source": [
    "# 30이면서 동시에 김씨인 사람 수\n",
    "Customer.objects.filter(age=30, last_name='김').values('last_name', 'age').count()"
   ]
  },
  {
   "cell_type": "code",
   "execution_count": 13,
   "id": "acceptable-builder",
   "metadata": {},
   "outputs": [
    {
     "data": {
      "text/plain": [
       "112"
      ]
     },
     "execution_count": 13,
     "metadata": {},
     "output_type": "execute_result"
    }
   ],
   "source": [
    "# 30이상이면서 김씨인 사람\n",
    "Customer.objects.filter(age__gte=30, last_name='김').values('last_name', 'age').count()"
   ]
  },
  {
   "cell_type": "code",
   "execution_count": null,
   "id": "fundamental-transport",
   "metadata": {},
   "outputs": [],
   "source": [
    "\n",
    "Customer.objects.filter(age__gte=30, last_name='강').count() # => and 연산"
   ]
  },
  {
   "cell_type": "code",
   "execution_count": 15,
   "id": "artificial-imperial",
   "metadata": {},
   "outputs": [
    {
     "data": {
      "text/plain": [
       "425"
      ]
     },
     "execution_count": 15,
     "metadata": {},
     "output_type": "execute_result"
    }
   ],
   "source": [
    "# 30이상 이거나 강씨인 사람의 수\n",
    "from django.db.models import Q\n",
    "Customer.objects.filter(Q(age__gte=30) | Q(last_name='강')).count()"
   ]
  },
  {
   "cell_type": "code",
   "execution_count": 16,
   "id": "precious-guarantee",
   "metadata": {},
   "outputs": [
    {
     "data": {
      "text/plain": [
       "249"
      ]
     },
     "execution_count": 16,
     "metadata": {},
     "output_type": "execute_result"
    }
   ],
   "source": [
    "# % => 무엇이든. _ => 반드시 그 자리에.\n",
    "# django orm 에서는 %만 사용 가능. 그 이상으로 패턴 비교를 하려면, 아예 정규표선식(regex)를 사용한다.\n",
    "# 02-로 시작하는 전화번호 개수 (sqlite에서는 02-%)\n",
    "Customer.objects.filter(phone__startswith='02-').count()\n",
    "\n"
   ]
  },
  {
   "cell_type": "code",
   "execution_count": 22,
   "id": "provincial-directory",
   "metadata": {},
   "outputs": [
    {
     "data": {
      "text/plain": [
       "<QuerySet [{'first_name': '은정'}, {'first_name': '혜진'}, {'first_name': '경수'}, {'first_name': '준영'}]>"
      ]
     },
     "execution_count": 22,
     "metadata": {},
     "output_type": "execute_result"
    }
   ],
   "source": [
    "# 강원도민 중 황씨의 이름만\n",
    "Customer.objects.filter(country='강원도', last_name='황').values('first_name')"
   ]
  },
  {
   "cell_type": "code",
   "execution_count": 25,
   "id": "committed-graduate",
   "metadata": {
    "scrolled": true
   },
   "outputs": [
    {
     "data": {
      "text/plain": [
       "<QuerySet [{'age': 40, 'first_name': '정호'}, {'age': 40, 'first_name': '미경'}, {'age': 40, 'first_name': '성현'}, {'age': 40, 'first_name': '상훈'}, {'age': 40, 'first_name': '민서'}, {'age': 40, 'first_name': '광수'}, {'age': 40, 'first_name': '영수'}, {'age': 40, 'first_name': '정순'}, {'age': 40, 'first_name': '윤서'}, {'age': 40, 'first_name': '시우'}]>"
      ]
     },
     "execution_count": 25,
     "metadata": {},
     "output_type": "execute_result"
    }
   ],
   "source": [
    "# 나이가 가장 많은 사람 10명 => ORM이 자동으로 LIMIT, OFFSET 처리.\n",
    "Customer.objects.order_by('-age')[:10].values('age','first_name')"
   ]
  },
  {
   "cell_type": "code",
   "execution_count": 27,
   "id": "beginning-cornwall",
   "metadata": {},
   "outputs": [
    {
     "data": {
      "text/plain": [
       "<QuerySet [{'balance': 150}, {'balance': 150}, {'balance': 150}, {'balance': 150}, {'balance': 150}, {'balance': 160}, {'balance': 160}, {'balance': 160}, {'balance': 160}, {'balance': 170}]>"
      ]
     },
     "execution_count": 27,
     "metadata": {},
     "output_type": "execute_result"
    }
   ],
   "source": [
    "# 최빈 10명 (디폴트는 오름차순)\n",
    "Customer.objects.order_by('balance')[:10].values('balance')"
   ]
  },
  {
   "cell_type": "code",
   "execution_count": 35,
   "id": "alert-rogers",
   "metadata": {
    "scrolled": true
   },
   "outputs": [
    {
     "data": {
      "text/plain": [
       "<QuerySet [{'balance': 150, 'age': 33, 'first_name': '진우'}, {'balance': 150, 'age': 32, 'first_name': '우진'}, {'balance': 150, 'age': 32, 'first_name': '광수'}, {'balance': 150, 'age': 28, 'first_name': '승민'}, {'balance': 150, 'age': 20, 'first_name': '민재'}, {'balance': 160, 'age': 36, 'first_name': '수민'}, {'balance': 160, 'age': 32, 'first_name': '명자'}, {'balance': 160, 'age': 25, 'first_name': '지아'}, {'balance': 160, 'age': 23, 'first_name': '순옥'}, {'balance': 170, 'age': 37, 'first_name': '현숙'}]>"
      ]
     },
     "execution_count": 35,
     "metadata": {},
     "output_type": "execute_result"
    }
   ],
   "source": [
    "# 최빈 + 최연장자 10명\n",
    "Customer.objects.order_by('balance', '-age')[:10].values('balance', 'age', 'first_name')"
   ]
  },
  {
   "cell_type": "code",
   "execution_count": 38,
   "id": "loaded-express",
   "metadata": {},
   "outputs": [
    {
     "ename": "AttributeError",
     "evalue": "'Customer' object has no attribute 'values'",
     "output_type": "error",
     "traceback": [
      "\u001b[1;31m---------------------------------------------------------------------------\u001b[0m",
      "\u001b[1;31mAttributeError\u001b[0m                            Traceback (most recent call last)",
      "\u001b[1;32m<ipython-input-38-ac001fd29997>\u001b[0m in \u001b[0;36m<module>\u001b[1;34m\u001b[0m\n\u001b[0;32m      1\u001b[0m \u001b[1;31m# 최빈 + 최연장자\u001b[0m\u001b[1;33m\u001b[0m\u001b[1;33m\u001b[0m\u001b[1;33m\u001b[0m\u001b[0m\n\u001b[1;32m----> 2\u001b[1;33m \u001b[0mCustomer\u001b[0m\u001b[1;33m.\u001b[0m\u001b[0mobjects\u001b[0m\u001b[1;33m.\u001b[0m\u001b[0morder_by\u001b[0m\u001b[1;33m(\u001b[0m\u001b[1;34m'balance'\u001b[0m\u001b[1;33m,\u001b[0m \u001b[1;34m'-age'\u001b[0m\u001b[1;33m)\u001b[0m\u001b[1;33m[\u001b[0m\u001b[1;36m0\u001b[0m\u001b[1;33m]\u001b[0m\u001b[1;33m.\u001b[0m\u001b[0mvalues\u001b[0m\u001b[1;33m(\u001b[0m\u001b[1;34m'balance'\u001b[0m\u001b[1;33m,\u001b[0m \u001b[1;34m'age'\u001b[0m\u001b[1;33m,\u001b[0m \u001b[1;34m'first_name'\u001b[0m\u001b[1;33m)\u001b[0m\u001b[1;33m\u001b[0m\u001b[1;33m\u001b[0m\u001b[0m\n\u001b[0m",
      "\u001b[1;31mAttributeError\u001b[0m: 'Customer' object has no attribute 'values'"
     ]
    }
   ],
   "source": [
    "# 최빈 + 최연장자 \n",
    "Customer.objects.order_by('balance', '-age')[0].values('balance', 'age', 'first_name')"
   ]
  },
  {
   "cell_type": "code",
   "execution_count": 37,
   "id": "relative-parcel",
   "metadata": {},
   "outputs": [
    {
     "data": {
      "text/plain": [
       "<QuerySet [{'id': 585, 'first_name': '혜진', 'last_name': '황', 'age': 24, 'country': '강원도', 'phone': '02-5896-4169', 'balance': 950}, {'id': 240, 'first_name': '현준', 'last_name': '황', 'age': 37, 'country': '충청북도', 'phone': '011-5114-9343', 'balance': 220}, {'id': 934, 'first_name': '춘자', 'last_name': '황', 'age': 28, 'country': '충청남도', 'phone': '02-9487-5755', 'balance': 6900}, {'id': 773, 'first_name': '지우', 'last_name': '황', 'age': 19, 'country': '경상남도', 'phone': '02-1124-8720', 'balance': 850000}, {'id': 912, 'first_name': '준영', 'last_name': '황', 'age': 16, 'country': '강원도', 'phone': '02-1030-5139', 'balance': 6500}, {'id': 417, 'first_name': '주원', 'last_name': '황', 'age': 37, 'country': '전라남도', 'phone': '016-9864-8415', 'balance': 390000}, {'id': 22, 'first_name': '은정', 'last_name': '황', 'age': 16, 'country': '강원도', 'phone': '016-5956-2725', 'balance': 7000}, {'id': 860, 'first_name': '은정', 'last_name': '황', 'age': 17, 'country': '전라남도', 'phone': '02-5773-7460', 'balance': 1000000}, {'id': 115, 'first_name': '은경', 'last_name': '황', 'age': 32, 'country': '충청북도', 'phone': '011-2600-7171', 'balance': 6300}, {'id': 355, 'first_name': '유진', 'last_name': '황', 'age': 26, 'country': '제주특별자치도', 'phone': '016-8933-1843', 'balance': 50000}, {'id': 71, 'first_name': '우진', 'last_name': '황', 'age': 34, 'country': '경상북도', 'phone': '011-9734-6132', 'balance': 760}, {'id': 710, 'first_name': '예진', 'last_name': '황', 'age': 25, 'country': '충청남도', 'phone': '02-8078-3022', 'balance': 580000}, {'id': 80, 'first_name': '예지', 'last_name': '황', 'age': 18, 'country': '전라남도', 'phone': '010-7374-4933', 'balance': 9400}, {'id': 865, 'first_name': '영환', 'last_name': '황', 'age': 34, 'country': '충청남도', 'phone': '010-7592-7190', 'balance': 300000}, {'id': 373, 'first_name': '상현', 'last_name': '황', 'age': 32, 'country': '전라남도', 'phone': '010-3270-2036', 'balance': 3700}, {'id': 161, 'first_name': '미경', 'last_name': '황', 'age': 17, 'country': '전라북도', 'phone': '016-1665-7441', 'balance': 3200}, {'id': 742, 'first_name': '동현', 'last_name': '황', 'age': 37, 'country': '경상북도', 'phone': '010-1800-9060', 'balance': 9100}, {'id': 521, 'first_name': '경희', 'last_name': '황', 'age': 39, 'country': '경기도', 'phone': '010-9911-4073', 'balance': 6500}, {'id': 929, 'first_name': '경숙', 'last_name': '황', 'age': 17, 'country': '경상남도', 'phone': '02-3893-9315', 'balance': 650}, {'id': 117, 'first_name': '경수', 'last_name': '황', 'age': 26, 'country': '경상남도', 'phone': '011-7902-6188', 'balance': 53000}, '...(remaining elements truncated)...']>"
      ]
     },
     "execution_count": 37,
     "metadata": {},
     "output_type": "execute_result"
    }
   ],
   "source": [
    "# 성 / 이름 가나다  정렬 내림차순\n",
    "Customer.objects.order_by('-last_name', '-first_name').values()"
   ]
  },
  {
   "cell_type": "code",
   "execution_count": null,
   "id": "altered-castle",
   "metadata": {},
   "outputs": [],
   "source": [
    "# annotate\n"
   ]
  },
  {
   "cell_type": "code",
   "execution_count": 40,
   "id": "engaging-faith",
   "metadata": {},
   "outputs": [
    {
     "data": {
      "text/plain": [
       "{'id': 5,\n",
       " 'first_name': '영환',\n",
       " 'last_name': '차',\n",
       " 'age': 30,\n",
       " 'country': '충청북도',\n",
       " 'phone': '011-2921-4284',\n",
       " 'balance': 220,\n",
       " 'full_name': '영환차'}"
      ]
     },
     "execution_count": 40,
     "metadata": {},
     "output_type": "execute_result"
    }
   ],
   "source": [
    "from django.db.models.functions import Concat\n",
    "Customer.objects.annotate(full_name=Concat('first_name', 'last_name')).values()[4]"
   ]
  },
  {
   "cell_type": "code",
   "execution_count": 41,
   "id": "measured-utilization",
   "metadata": {},
   "outputs": [
    {
     "data": {
      "text/plain": [
       "{'id': 2,\n",
       " 'first_name': '경희',\n",
       " 'last_name': '이',\n",
       " 'age': 36,\n",
       " 'country': '경상남도',\n",
       " 'phone': '011-9854-5133',\n",
       " 'balance': 5900,\n",
       " 'country__count': 1}"
      ]
     },
     "execution_count": 41,
     "metadata": {},
     "output_type": "execute_result"
    }
   ],
   "source": [
    "Customer.objects.annotate(Count('country')).values()[1]"
   ]
  },
  {
   "cell_type": "code",
   "execution_count": 42,
   "id": "regular-relief",
   "metadata": {},
   "outputs": [
    {
     "ename": "NameError",
     "evalue": "name 'Article' is not defined",
     "output_type": "error",
     "traceback": [
      "\u001b[1;31m---------------------------------------------------------------------------\u001b[0m",
      "\u001b[1;31mNameError\u001b[0m                                 Traceback (most recent call last)",
      "\u001b[1;32m<ipython-input-42-f9784f9e6cae>\u001b[0m in \u001b[0;36m<module>\u001b[1;34m\u001b[0m\n\u001b[1;32m----> 1\u001b[1;33m \u001b[0ma\u001b[0m \u001b[1;33m=\u001b[0m \u001b[0mArticle\u001b[0m\u001b[1;33m.\u001b[0m\u001b[0mobjects\u001b[0m\u001b[1;33m.\u001b[0m\u001b[0mfirst\u001b[0m\u001b[1;33m(\u001b[0m\u001b[1;33m)\u001b[0m\u001b[1;33m\u001b[0m\u001b[1;33m\u001b[0m\u001b[0m\n\u001b[0m",
      "\u001b[1;31mNameError\u001b[0m: name 'Article' is not defined"
     ]
    }
   ],
   "source": [
    "a = Article.objects.first()"
   ]
  }
 ],
 "metadata": {
  "kernelspec": {
   "display_name": "Django Shell-Plus",
   "language": "python",
   "name": "django_extensions"
  },
  "language_info": {
   "codemirror_mode": {
    "name": "ipython",
    "version": 3
   },
   "file_extension": ".py",
   "mimetype": "text/x-python",
   "name": "python",
   "nbconvert_exporter": "python",
   "pygments_lexer": "ipython3",
   "version": "3.8.7"
  },
  "varInspector": {
   "cols": {
    "lenName": 16,
    "lenType": 16,
    "lenVar": 40
   },
   "kernels_config": {
    "python": {
     "delete_cmd_postfix": "",
     "delete_cmd_prefix": "del ",
     "library": "var_list.py",
     "varRefreshCmd": "print(var_dic_list())"
    },
    "r": {
     "delete_cmd_postfix": ") ",
     "delete_cmd_prefix": "rm(",
     "library": "var_list.r",
     "varRefreshCmd": "cat(var_dic_list()) "
    }
   },
   "types_to_exclude": [
    "module",
    "function",
    "builtin_function_or_method",
    "instance",
    "_Feature"
   ],
   "window_display": false
  }
 },
 "nbformat": 4,
 "nbformat_minor": 5
}
